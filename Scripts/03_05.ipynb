{
 "cells": [
  {
   "cell_type": "markdown",
   "metadata": {},
   "source": [
    "defi"
   ]
  },
  {
   "cell_type": "code",
   "execution_count": 16,
   "metadata": {},
   "outputs": [],
   "source": [
    "#1er tuple\n",
    "tuple1=('ELOUNDOU', 'SIMO')\n",
    "# tuple1= tuple({'ELOUNDOU', 'SIMO'})"
   ]
  },
  {
   "cell_type": "code",
   "execution_count": 17,
   "metadata": {},
   "outputs": [],
   "source": [
    "\n",
    "tuple2=('PAMELA','SABRINA')"
   ]
  },
  {
   "cell_type": "code",
   "execution_count": null,
   "metadata": {},
   "outputs": [
    {
     "name": "stdout",
     "output_type": "stream",
     "text": [
      "{'ELOUNDOU': 'PAMELA', 'SIMO': 'SABRINA'}\n"
     ]
    }
   ],
   "source": [
    "#concatenation manuelle\n",
    "dict1={tuple1[0]:tuple2[0],tuple1[1]:tuple2[1]}\n",
    "print(dict1)"
   ]
  },
  {
   "cell_type": "code",
   "execution_count": null,
   "metadata": {},
   "outputs": [],
   "source": [
    "#copy de dict1\n",
    "dict2=dict1"
   ]
  },
  {
   "cell_type": "code",
   "execution_count": 20,
   "metadata": {},
   "outputs": [
    {
     "name": "stdout",
     "output_type": "stream",
     "text": [
      "{'ELOUNDOU': 'PAMELA', 'SIMO': 'SABRINA', 'Patou': 'Alison'}\n"
     ]
    }
   ],
   "source": [
    "dict2['Patou']='Alison'\n",
    "print(dict2)"
   ]
  }
 ],
 "metadata": {
  "kernelspec": {
   "display_name": "Python 3",
   "language": "python",
   "name": "python3"
  },
  "language_info": {
   "codemirror_mode": {
    "name": "ipython",
    "version": 3
   },
   "file_extension": ".py",
   "mimetype": "text/x-python",
   "name": "python",
   "nbconvert_exporter": "python",
   "pygments_lexer": "ipython3",
   "version": "3.12.1"
  }
 },
 "nbformat": 4,
 "nbformat_minor": 2
}
