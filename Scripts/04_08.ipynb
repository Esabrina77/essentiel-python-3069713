{
 "cells": [
  {
   "cell_type": "markdown",
   "metadata": {},
   "source": [
    "defi\n"
   ]
  },
  {
   "cell_type": "code",
   "execution_count": 34,
   "metadata": {},
   "outputs": [],
   "source": [
    "#def fonctions salaires\n",
    "def salaireUpdate(heure):\n",
    "  salaire=200\n",
    "  if (heure >48):\n",
    "     print(\"salaire de base :\", salaire)\n",
    "     salaire += (1.5*salaire)\n",
    "     print(\"vous avez eu des heures supp : \", salaire)\n",
    "  else:\n",
    "     print(\"vous avez eu des heures supp : \", salaire)\n"
   ]
  },
  {
   "cell_type": "code",
   "execution_count": 35,
   "metadata": {},
   "outputs": [],
   "source": [
    "#def fonctions salaires correction\n",
    "def salaireUpdate(heure, tarif):\n",
    "  salaireBase=40*tarif\n",
    "  if (heure >40):\n",
    "     remuSupplement=(heure-40)*(1.5*tarif)\n",
    "     print(\"votre suppplement est \", remuSupplement)\n",
    "     salaireF= salaireBase+ remuSupplement\n",
    "     return salaireF\n",
    "   #   print(\"vous avez eu des heures supp : \", salaireF)\n",
    "  else:\n",
    "     print(\"vous n'avez pas eu des heures supp : \", salaireBase)\n",
    "     return salaireBase\n"
   ]
  },
  {
   "cell_type": "code",
   "execution_count": 36,
   "metadata": {},
   "outputs": [
    {
     "name": "stdout",
     "output_type": "stream",
     "text": [
      "votre suppplement est  1500.0\n"
     ]
    },
    {
     "data": {
      "text/plain": [
       "5500.0"
      ]
     },
     "execution_count": 36,
     "metadata": {},
     "output_type": "execute_result"
    }
   ],
   "source": [
    "paie= salaireUpdate(50,100)\n",
    "paie"
   ]
  },
  {
   "cell_type": "code",
   "execution_count": 37,
   "metadata": {},
   "outputs": [
    {
     "name": "stdout",
     "output_type": "stream",
     "text": [
      "la somme a payer est : 5500.00  euro\n"
     ]
    }
   ],
   "source": [
    "print(f\"la somme a payer est : {paie:.2f} \", \"euro\")"
   ]
  },
  {
   "cell_type": "code",
   "execution_count": null,
   "metadata": {},
   "outputs": [],
   "source": []
  }
 ],
 "metadata": {
  "kernelspec": {
   "display_name": "Python 3",
   "language": "python",
   "name": "python3"
  },
  "language_info": {
   "codemirror_mode": {
    "name": "ipython",
    "version": 3
   },
   "file_extension": ".py",
   "mimetype": "text/x-python",
   "name": "python",
   "nbconvert_exporter": "python",
   "pygments_lexer": "ipython3",
   "version": "3.12.1"
  }
 },
 "nbformat": 4,
 "nbformat_minor": 2
}
