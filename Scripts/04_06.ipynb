{
 "cells": [
  {
   "cell_type": "markdown",
   "metadata": {},
   "source": [
    "params & argument "
   ]
  },
  {
   "cell_type": "code",
   "execution_count": null,
   "metadata": {},
   "outputs": [],
   "source": [
    "#-params est indique dans la def de la fonction\n",
    "def bonjour(prenom): #prenom est le parametre\n",
    "  print(\"bonjour \"+ prenom)"
   ]
  },
  {
   "cell_type": "code",
   "execution_count": null,
   "metadata": {},
   "outputs": [
    {
     "name": "stdout",
     "output_type": "stream",
     "text": [
      "bonjour alison\n"
     ]
    }
   ],
   "source": [
    "#-argument valeur passee a une fonction lors de son usage\n",
    "bonjour('alison') #alison est l'argument"
   ]
  },
  {
   "cell_type": "code",
   "execution_count": null,
   "metadata": {},
   "outputs": [],
   "source": [
    "# args : specifie qu on use des arguments\n",
    "# *args: lorsqu'on ne connait pas le nombre d'agruments à passer"
   ]
  },
  {
   "cell_type": "code",
   "execution_count": null,
   "metadata": {},
   "outputs": [],
   "source": [
    "def somme(*args):\n",
    "  x=0\n",
    "  for i in args:\n",
    "    x +=i\n",
    "    print( \"la somm ttole : \" , x)"
   ]
  },
  {
   "cell_type": "code",
   "execution_count": 8,
   "metadata": {},
   "outputs": [
    {
     "name": "stdout",
     "output_type": "stream",
     "text": [
      "la somm ttole :  4\n",
      "la somm ttole :  9\n",
      "la somm ttole :  13\n"
     ]
    }
   ],
   "source": [
    "somme(4,5,4)"
   ]
  }
 ],
 "metadata": {
  "kernelspec": {
   "display_name": "Python 3",
   "language": "python",
   "name": "python3"
  },
  "language_info": {
   "codemirror_mode": {
    "name": "ipython",
    "version": 3
   },
   "file_extension": ".py",
   "mimetype": "text/x-python",
   "name": "python",
   "nbconvert_exporter": "python",
   "pygments_lexer": "ipython3",
   "version": "3.12.1"
  }
 },
 "nbformat": 4,
 "nbformat_minor": 2
}
